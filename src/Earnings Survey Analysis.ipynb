{
 "cells": [
  {
   "cell_type": "markdown",
   "metadata": {},
   "source": [
    "# Earnings Survey Analysis\n",
    "\n",
    "This notebook analyzes the results of a survey carried out in the United States during the 90s, regarding the earnings of its citizens.\n",
    "\n",
    "Dataset: https://vincentarelbundock.github.io/Rdatasets/doc/Ecdat/CPSch3.html\n"
   ]
  },
  {
   "cell_type": "markdown",
   "metadata": {},
   "source": [
    "The survey responses are stored in a CSV file."
   ]
  },
  {
   "cell_type": "code",
   "execution_count": 1,
   "metadata": {},
   "outputs": [
    {
     "name": "stdout",
     "output_type": "stream",
     "text": [
      "Rows:  11130 \n",
      "Columns:  4 \n"
     ]
    }
   ],
   "source": [
    "responses <- read.csv(\"CPSch3.csv\")\n",
    "\n",
    "rows <- nrow(responses)\n",
    "cols <- ncol(responses)\n",
    "\n",
    "cat(\"Rows: \", rows, \"\\n\")\n",
    "cat(\"Columns: \", cols, \"\\n\")"
   ]
  },
  {
   "cell_type": "markdown",
   "metadata": {},
   "source": [
    "Let's take a quick look at the data."
   ]
  },
  {
   "cell_type": "code",
   "execution_count": 2,
   "metadata": {},
   "outputs": [
    {
     "data": {
      "text/html": [
       "<table>\n",
       "<thead><tr><th scope=col>X</th><th scope=col>year</th><th scope=col>ahe</th><th scope=col>sex</th></tr></thead>\n",
       "<tbody>\n",
       "\t<tr><td>1        </td><td>1992     </td><td>12.999118</td><td>male     </td></tr>\n",
       "\t<tr><td>2        </td><td>1992     </td><td>11.617962</td><td>male     </td></tr>\n",
       "\t<tr><td>3        </td><td>1992     </td><td>17.377293</td><td>male     </td></tr>\n",
       "\t<tr><td>4        </td><td>1992     </td><td>10.061266</td><td>female   </td></tr>\n",
       "\t<tr><td>5        </td><td>1992     </td><td>16.756676</td><td>male     </td></tr>\n",
       "\t<tr><td>6        </td><td>1992     </td><td> 9.216171</td><td>female   </td></tr>\n",
       "</tbody>\n",
       "</table>\n"
      ],
      "text/latex": [
       "\\begin{tabular}{r|llll}\n",
       " X & year & ahe & sex\\\\\n",
       "\\hline\n",
       "\t 1         & 1992      & 12.999118 & male     \\\\\n",
       "\t 2         & 1992      & 11.617962 & male     \\\\\n",
       "\t 3         & 1992      & 17.377293 & male     \\\\\n",
       "\t 4         & 1992      & 10.061266 & female   \\\\\n",
       "\t 5         & 1992      & 16.756676 & male     \\\\\n",
       "\t 6         & 1992      &  9.216171 & female   \\\\\n",
       "\\end{tabular}\n"
      ],
      "text/markdown": [
       "\n",
       "X | year | ahe | sex | \n",
       "|---|---|---|---|---|---|\n",
       "| 1         | 1992      | 12.999118 | male      | \n",
       "| 2         | 1992      | 11.617962 | male      | \n",
       "| 3         | 1992      | 17.377293 | male      | \n",
       "| 4         | 1992      | 10.061266 | female    | \n",
       "| 5         | 1992      | 16.756676 | male      | \n",
       "| 6         | 1992      |  9.216171 | female    | \n",
       "\n",
       "\n"
      ],
      "text/plain": [
       "  X year ahe       sex   \n",
       "1 1 1992 12.999118 male  \n",
       "2 2 1992 11.617962 male  \n",
       "3 3 1992 17.377293 male  \n",
       "4 4 1992 10.061266 female\n",
       "5 5 1992 16.756676 male  \n",
       "6 6 1992  9.216171 female"
      ]
     },
     "metadata": {},
     "output_type": "display_data"
    }
   ],
   "source": [
    "head(responses)"
   ]
  },
  {
   "cell_type": "markdown",
   "metadata": {},
   "source": [
    "Before starting to analyze the results, it's good to check the data distribution and potential outlier values."
   ]
  },
  {
   "cell_type": "code",
   "execution_count": 3,
   "metadata": {},
   "outputs": [
    {
     "data": {
      "text/plain": [
       "       X              year           ahe             sex      \n",
       " Min.   :    1   Min.   :1992   Min.   : 2.136   female:5174  \n",
       " 1st Qu.: 2783   1st Qu.:1992   1st Qu.:11.281   male  :5956  \n",
       " Median : 5566   Median :1994   Median :14.984                \n",
       " Mean   : 5566   Mean   :1995   Mean   :16.263                \n",
       " 3rd Qu.: 8348   3rd Qu.:1996   3rd Qu.:20.000                \n",
       " Max.   :11130   Max.   :1998   Max.   :52.443                "
      ]
     },
     "metadata": {},
     "output_type": "display_data"
    }
   ],
   "source": [
    "summary(responses)"
   ]
  },
  {
   "cell_type": "markdown",
   "metadata": {},
   "source": [
    "Everything seems fine, we can proceed and calculate some statistics."
   ]
  },
  {
   "cell_type": "markdown",
   "metadata": {},
   "source": [
    "The first interesting thing to compute is the mean earnings by genre."
   ]
  },
  {
   "cell_type": "code",
   "execution_count": 4,
   "metadata": {},
   "outputs": [
    {
     "data": {
      "text/html": [
       "<table>\n",
       "<thead><tr><th scope=col>genre</th><th scope=col>ahe</th></tr></thead>\n",
       "<tbody>\n",
       "\t<tr><td>female  </td><td>15.03801</td></tr>\n",
       "\t<tr><td>male    </td><td>17.32658</td></tr>\n",
       "</tbody>\n",
       "</table>\n"
      ],
      "text/latex": [
       "\\begin{tabular}{r|ll}\n",
       " genre & ahe\\\\\n",
       "\\hline\n",
       "\t female   & 15.03801\\\\\n",
       "\t male     & 17.32658\\\\\n",
       "\\end{tabular}\n"
      ],
      "text/markdown": [
       "\n",
       "genre | ahe | \n",
       "|---|---|\n",
       "| female   | 15.03801 | \n",
       "| male     | 17.32658 | \n",
       "\n",
       "\n"
      ],
      "text/plain": [
       "  genre  ahe     \n",
       "1 female 15.03801\n",
       "2 male   17.32658"
      ]
     },
     "metadata": {},
     "output_type": "display_data"
    }
   ],
   "source": [
    "mean_ahe_genre <- aggregate(responses[\"ahe\"], by = list(genre = responses$sex), FUN = mean)\n",
    "mean_ahe_genre"
   ]
  },
  {
   "cell_type": "markdown",
   "metadata": {},
   "source": [
    "We can see a difference between the wages of men and women. However, this result doesn't provide a notion of scale. In order to get a sense of it, we could calculate the mean earnings from all the survey responses and use that as a reference."
   ]
  },
  {
   "cell_type": "markdown",
   "metadata": {},
   "source": [
    "Before proceeding, let's check the mean earnings for each year. This information may be relevant in countries with high inflation/deflation, in which salaries may change significantly from one year to the next."
   ]
  },
  {
   "cell_type": "code",
   "execution_count": 5,
   "metadata": {},
   "outputs": [
    {
     "data": {
      "text/html": [
       "<table>\n",
       "<thead><tr><th scope=col>year</th><th scope=col>ahe</th></tr></thead>\n",
       "<tbody>\n",
       "\t<tr><td>1992    </td><td>16.48495</td></tr>\n",
       "\t<tr><td>1994    </td><td>16.04378</td></tr>\n",
       "\t<tr><td>1996    </td><td>15.71825</td></tr>\n",
       "\t<tr><td>1998    </td><td>16.80410</td></tr>\n",
       "</tbody>\n",
       "</table>\n"
      ],
      "text/latex": [
       "\\begin{tabular}{r|ll}\n",
       " year & ahe\\\\\n",
       "\\hline\n",
       "\t 1992     & 16.48495\\\\\n",
       "\t 1994     & 16.04378\\\\\n",
       "\t 1996     & 15.71825\\\\\n",
       "\t 1998     & 16.80410\\\\\n",
       "\\end{tabular}\n"
      ],
      "text/markdown": [
       "\n",
       "year | ahe | \n",
       "|---|---|---|---|\n",
       "| 1992     | 16.48495 | \n",
       "| 1994     | 16.04378 | \n",
       "| 1996     | 15.71825 | \n",
       "| 1998     | 16.80410 | \n",
       "\n",
       "\n"
      ],
      "text/plain": [
       "  year ahe     \n",
       "1 1992 16.48495\n",
       "2 1994 16.04378\n",
       "3 1996 15.71825\n",
       "4 1998 16.80410"
      ]
     },
     "metadata": {},
     "output_type": "display_data"
    }
   ],
   "source": [
    "mean_ahe_year <- aggregate(responses[\"ahe\"], by = list(year = responses$year), FUN = mean)\n",
    "mean_ahe_year"
   ]
  },
  {
   "cell_type": "markdown",
   "metadata": {},
   "source": [
    "As we can see, the average values are quite similar. Then, we can ignore this factor and calculate the mean using the entire dataset."
   ]
  },
  {
   "cell_type": "code",
   "execution_count": 6,
   "metadata": {},
   "outputs": [
    {
     "name": "stdout",
     "output_type": "stream",
     "text": [
      "Mean AHE:  16.2627 \n"
     ]
    }
   ],
   "source": [
    "mean_ahe = mean(responses[,\"ahe\"])\n",
    "cat(\"Mean AHE: \", mean_ahe, \"\\n\")"
   ]
  },
  {
   "cell_type": "markdown",
   "metadata": {},
   "source": [
    "Next, let's compute the earnings by genre as a proportion of the mean."
   ]
  },
  {
   "cell_type": "code",
   "execution_count": 7,
   "metadata": {},
   "outputs": [
    {
     "data": {
      "text/html": [
       "<table>\n",
       "<thead><tr><th scope=col>genre</th><th scope=col>ahe</th><th scope=col>ahe_scale</th></tr></thead>\n",
       "<tbody>\n",
       "\t<tr><td>female   </td><td>15.03801 </td><td>0.9246937</td></tr>\n",
       "\t<tr><td>male     </td><td>17.32658 </td><td>1.0654189</td></tr>\n",
       "</tbody>\n",
       "</table>\n"
      ],
      "text/latex": [
       "\\begin{tabular}{r|lll}\n",
       " genre & ahe & ahe\\_scale\\\\\n",
       "\\hline\n",
       "\t female    & 15.03801  & 0.9246937\\\\\n",
       "\t male      & 17.32658  & 1.0654189\\\\\n",
       "\\end{tabular}\n"
      ],
      "text/markdown": [
       "\n",
       "genre | ahe | ahe_scale | \n",
       "|---|---|\n",
       "| female    | 15.03801  | 0.9246937 | \n",
       "| male      | 17.32658  | 1.0654189 | \n",
       "\n",
       "\n"
      ],
      "text/plain": [
       "  genre  ahe      ahe_scale\n",
       "1 female 15.03801 0.9246937\n",
       "2 male   17.32658 1.0654189"
      ]
     },
     "metadata": {},
     "output_type": "display_data"
    }
   ],
   "source": [
    "within(mean_ahe_genre, ahe_scale <- mean_ahe_genre$ahe / mean_ahe)"
   ]
  },
  {
   "cell_type": "markdown",
   "metadata": {},
   "source": [
    "The calculations show that men earned around 6,5% more than the average, while women earned around 7% less than the average."
   ]
  },
  {
   "cell_type": "markdown",
   "metadata": {},
   "source": [
    "As a final step, let's check the value for this metric on each individual year, so that we can understand if the earnings difference is just the result of a statistical average or if it happened every year."
   ]
  },
  {
   "cell_type": "code",
   "execution_count": 8,
   "metadata": {},
   "outputs": [
    {
     "data": {
      "text/html": [
       "<table>\n",
       "<thead><tr><th scope=col>year</th><th scope=col>genre</th><th scope=col>ahe</th><th scope=col>ahe_mean</th><th scope=col>ahe_scale</th></tr></thead>\n",
       "<tbody>\n",
       "\t<tr><td>1992     </td><td>female   </td><td>15.22047 </td><td>16.48495 </td><td>0.9232952</td></tr>\n",
       "\t<tr><td>1992     </td><td>male     </td><td>17.57457 </td><td>16.48495 </td><td>1.0660982</td></tr>\n",
       "\t<tr><td>1994     </td><td>female   </td><td>15.00655 </td><td>16.04378 </td><td>0.9353500</td></tr>\n",
       "\t<tr><td>1994     </td><td>male     </td><td>16.92523 </td><td>16.04378 </td><td>1.0549403</td></tr>\n",
       "\t<tr><td>1996     </td><td>female   </td><td>14.42531 </td><td>15.71825 </td><td>0.9177425</td></tr>\n",
       "\t<tr><td>1996     </td><td>male     </td><td>16.88040 </td><td>15.71825 </td><td>1.0739360</td></tr>\n",
       "\t<tr><td>1998     </td><td>female   </td><td>15.49195 </td><td>16.80410 </td><td>0.9219150</td></tr>\n",
       "\t<tr><td>1998     </td><td>male     </td><td>17.94387 </td><td>16.80410 </td><td>1.0678269</td></tr>\n",
       "</tbody>\n",
       "</table>\n"
      ],
      "text/latex": [
       "\\begin{tabular}{r|lllll}\n",
       " year & genre & ahe & ahe\\_mean & ahe\\_scale\\\\\n",
       "\\hline\n",
       "\t 1992      & female    & 15.22047  & 16.48495  & 0.9232952\\\\\n",
       "\t 1992      & male      & 17.57457  & 16.48495  & 1.0660982\\\\\n",
       "\t 1994      & female    & 15.00655  & 16.04378  & 0.9353500\\\\\n",
       "\t 1994      & male      & 16.92523  & 16.04378  & 1.0549403\\\\\n",
       "\t 1996      & female    & 14.42531  & 15.71825  & 0.9177425\\\\\n",
       "\t 1996      & male      & 16.88040  & 15.71825  & 1.0739360\\\\\n",
       "\t 1998      & female    & 15.49195  & 16.80410  & 0.9219150\\\\\n",
       "\t 1998      & male      & 17.94387  & 16.80410  & 1.0678269\\\\\n",
       "\\end{tabular}\n"
      ],
      "text/markdown": [
       "\n",
       "year | genre | ahe | ahe_mean | ahe_scale | \n",
       "|---|---|---|---|---|---|---|---|\n",
       "| 1992      | female    | 15.22047  | 16.48495  | 0.9232952 | \n",
       "| 1992      | male      | 17.57457  | 16.48495  | 1.0660982 | \n",
       "| 1994      | female    | 15.00655  | 16.04378  | 0.9353500 | \n",
       "| 1994      | male      | 16.92523  | 16.04378  | 1.0549403 | \n",
       "| 1996      | female    | 14.42531  | 15.71825  | 0.9177425 | \n",
       "| 1996      | male      | 16.88040  | 15.71825  | 1.0739360 | \n",
       "| 1998      | female    | 15.49195  | 16.80410  | 0.9219150 | \n",
       "| 1998      | male      | 17.94387  | 16.80410  | 1.0678269 | \n",
       "\n",
       "\n"
      ],
      "text/plain": [
       "  year genre  ahe      ahe_mean ahe_scale\n",
       "1 1992 female 15.22047 16.48495 0.9232952\n",
       "2 1992 male   17.57457 16.48495 1.0660982\n",
       "3 1994 female 15.00655 16.04378 0.9353500\n",
       "4 1994 male   16.92523 16.04378 1.0549403\n",
       "5 1996 female 14.42531 15.71825 0.9177425\n",
       "6 1996 male   16.88040 15.71825 1.0739360\n",
       "7 1998 female 15.49195 16.80410 0.9219150\n",
       "8 1998 male   17.94387 16.80410 1.0678269"
      ]
     },
     "metadata": {},
     "output_type": "display_data"
    }
   ],
   "source": [
    "mean_ahe_year_genre <- aggregate(responses[\"ahe\"], by = list(year = responses$year, genre = responses$sex), FUN = mean)\n",
    "colnames(mean_ahe_year)[colnames(mean_ahe_year) == 'ahe'] <- 'ahe_mean'\n",
    "results <- merge(mean_ahe_year_genre, mean_ahe_year, by = \"year\")\n",
    "within(results, ahe_scale <- results$ahe / results$ahe_mean)"
   ]
  },
  {
   "cell_type": "markdown",
   "metadata": {},
   "source": [
    "The results show that the difference in earnings between men and women repeated each year in approximately the same proportion."
   ]
  }
 ],
 "metadata": {
  "kernelspec": {
   "display_name": "R",
   "language": "R",
   "name": "ir"
  },
  "language_info": {
   "codemirror_mode": "r",
   "file_extension": ".r",
   "mimetype": "text/x-r-source",
   "name": "R",
   "pygments_lexer": "r",
   "version": "3.4.1"
  }
 },
 "nbformat": 4,
 "nbformat_minor": 2
}
